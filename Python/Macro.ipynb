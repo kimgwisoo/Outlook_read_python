{
 "metadata": {
  "language_info": {
   "codemirror_mode": {
    "name": "ipython",
    "version": 3
   },
   "file_extension": ".py",
   "mimetype": "text/x-python",
   "name": "python",
   "nbconvert_exporter": "python",
   "pygments_lexer": "ipython3",
   "version": "3.7.6-final"
  },
  "orig_nbformat": 2,
  "kernelspec": {
<<<<<<< HEAD
   "name": "Python 3.7.6 64-bit (conda)",
   "display_name": "Python 3.7.6 64-bit (conda)",
=======
   "name": "Python 3.7.6 64-bit ('MCF': virtualenv)",
   "display_name": "Python 3.7.6 64-bit ('MCF': virtualenv)",
>>>>>>> 914072dc8ee078262e517979ab37bcd4e40e33c9
   "metadata": {
    "interpreter": {
     "hash": "15bc54dd3cab612613c542227413ee8ecea986d8c5753dfe5a1a355e58ce028c"
    }
   }
  }
 },
 "nbformat": 4,
 "nbformat_minor": 2,
 "cells": [
  {
   "cell_type": "code",
<<<<<<< HEAD
   "execution_count": 1,
=======
   "execution_count": 2,
>>>>>>> 914072dc8ee078262e517979ab37bcd4e40e33c9
   "metadata": {},
   "outputs": [],
   "source": [
    "import pyautogui as pag"
   ]
  },
  {
   "cell_type": "code",
<<<<<<< HEAD
   "execution_count": 13,
=======
   "execution_count": 11,
>>>>>>> 914072dc8ee078262e517979ab37bcd4e40e33c9
   "metadata": {},
   "outputs": [
    {
     "output_type": "stream",
     "name": "stdout",
     "text": [
<<<<<<< HEAD
      "980 522\n"
=======
      "1051 319\n"
>>>>>>> 914072dc8ee078262e517979ab37bcd4e40e33c9
     ]
    }
   ],
   "source": [
    "x, y = pag.position()\n",
    "print(x,y)"
   ]
  },
  {
   "cell_type": "code",
<<<<<<< HEAD
   "execution_count": 10,
   "metadata": {},
   "outputs": [],
   "source": [
    "pag.moveTo(1920,1080)"
=======
   "execution_count": 15,
   "metadata": {},
   "outputs": [],
   "source": [
    "pag.moveTo(1980,1040)"
>>>>>>> 914072dc8ee078262e517979ab37bcd4e40e33c9
   ]
  }
 ]
}